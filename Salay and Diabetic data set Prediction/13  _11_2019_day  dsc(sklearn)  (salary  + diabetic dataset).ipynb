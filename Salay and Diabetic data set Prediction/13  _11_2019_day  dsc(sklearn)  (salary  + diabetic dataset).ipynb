{
 "cells": [
  {
   "cell_type": "markdown",
   "metadata": {},
   "source": [
    "# Salary Data set"
   ]
  },
  {
   "cell_type": "code",
   "execution_count": 1,
   "metadata": {},
   "outputs": [],
   "source": [
    "import sklearn"
   ]
  },
  {
   "cell_type": "code",
   "execution_count": 2,
   "metadata": {},
   "outputs": [],
   "source": [
    "import numpy as np\n",
    "import matplotlib.pyplot as plot\n",
    "import pandas as pd \n",
    "from sklearn.model_selection import train_test_split\n",
    "from sklearn.linear_model import LinearRegression\n",
    "from sklearn import datasets"
   ]
  },
  {
   "cell_type": "code",
   "execution_count": 3,
   "metadata": {},
   "outputs": [],
   "source": [
    "df = pd.read_csv(\"SalaryData.csv\")"
   ]
  },
  {
   "cell_type": "code",
   "execution_count": 4,
   "metadata": {},
   "outputs": [
    {
     "data": {
      "text/html": [
       "<div>\n",
       "<style scoped>\n",
       "    .dataframe tbody tr th:only-of-type {\n",
       "        vertical-align: middle;\n",
       "    }\n",
       "\n",
       "    .dataframe tbody tr th {\n",
       "        vertical-align: top;\n",
       "    }\n",
       "\n",
       "    .dataframe thead th {\n",
       "        text-align: right;\n",
       "    }\n",
       "</style>\n",
       "<table border=\"1\" class=\"dataframe\">\n",
       "  <thead>\n",
       "    <tr style=\"text-align: right;\">\n",
       "      <th></th>\n",
       "      <th>YearsExperience</th>\n",
       "      <th>Salary</th>\n",
       "    </tr>\n",
       "  </thead>\n",
       "  <tbody>\n",
       "    <tr>\n",
       "      <th>0</th>\n",
       "      <td>1.1</td>\n",
       "      <td>39343.0</td>\n",
       "    </tr>\n",
       "    <tr>\n",
       "      <th>1</th>\n",
       "      <td>1.3</td>\n",
       "      <td>46205.0</td>\n",
       "    </tr>\n",
       "    <tr>\n",
       "      <th>2</th>\n",
       "      <td>1.5</td>\n",
       "      <td>37731.0</td>\n",
       "    </tr>\n",
       "    <tr>\n",
       "      <th>3</th>\n",
       "      <td>2.0</td>\n",
       "      <td>43525.0</td>\n",
       "    </tr>\n",
       "    <tr>\n",
       "      <th>4</th>\n",
       "      <td>2.2</td>\n",
       "      <td>39891.0</td>\n",
       "    </tr>\n",
       "    <tr>\n",
       "      <th>5</th>\n",
       "      <td>2.9</td>\n",
       "      <td>56642.0</td>\n",
       "    </tr>\n",
       "    <tr>\n",
       "      <th>6</th>\n",
       "      <td>3.0</td>\n",
       "      <td>60150.0</td>\n",
       "    </tr>\n",
       "    <tr>\n",
       "      <th>7</th>\n",
       "      <td>3.2</td>\n",
       "      <td>54445.0</td>\n",
       "    </tr>\n",
       "    <tr>\n",
       "      <th>8</th>\n",
       "      <td>3.2</td>\n",
       "      <td>64445.0</td>\n",
       "    </tr>\n",
       "    <tr>\n",
       "      <th>9</th>\n",
       "      <td>3.7</td>\n",
       "      <td>57189.0</td>\n",
       "    </tr>\n",
       "    <tr>\n",
       "      <th>10</th>\n",
       "      <td>3.9</td>\n",
       "      <td>63218.0</td>\n",
       "    </tr>\n",
       "    <tr>\n",
       "      <th>11</th>\n",
       "      <td>4.0</td>\n",
       "      <td>55794.0</td>\n",
       "    </tr>\n",
       "    <tr>\n",
       "      <th>12</th>\n",
       "      <td>4.0</td>\n",
       "      <td>56957.0</td>\n",
       "    </tr>\n",
       "    <tr>\n",
       "      <th>13</th>\n",
       "      <td>4.1</td>\n",
       "      <td>57081.0</td>\n",
       "    </tr>\n",
       "    <tr>\n",
       "      <th>14</th>\n",
       "      <td>4.5</td>\n",
       "      <td>61111.0</td>\n",
       "    </tr>\n",
       "    <tr>\n",
       "      <th>15</th>\n",
       "      <td>4.9</td>\n",
       "      <td>67938.0</td>\n",
       "    </tr>\n",
       "    <tr>\n",
       "      <th>16</th>\n",
       "      <td>5.1</td>\n",
       "      <td>66029.0</td>\n",
       "    </tr>\n",
       "    <tr>\n",
       "      <th>17</th>\n",
       "      <td>5.3</td>\n",
       "      <td>83088.0</td>\n",
       "    </tr>\n",
       "    <tr>\n",
       "      <th>18</th>\n",
       "      <td>5.9</td>\n",
       "      <td>81363.0</td>\n",
       "    </tr>\n",
       "    <tr>\n",
       "      <th>19</th>\n",
       "      <td>6.0</td>\n",
       "      <td>93940.0</td>\n",
       "    </tr>\n",
       "    <tr>\n",
       "      <th>20</th>\n",
       "      <td>6.8</td>\n",
       "      <td>91738.0</td>\n",
       "    </tr>\n",
       "    <tr>\n",
       "      <th>21</th>\n",
       "      <td>7.1</td>\n",
       "      <td>98273.0</td>\n",
       "    </tr>\n",
       "    <tr>\n",
       "      <th>22</th>\n",
       "      <td>7.9</td>\n",
       "      <td>101302.0</td>\n",
       "    </tr>\n",
       "    <tr>\n",
       "      <th>23</th>\n",
       "      <td>8.2</td>\n",
       "      <td>113812.0</td>\n",
       "    </tr>\n",
       "    <tr>\n",
       "      <th>24</th>\n",
       "      <td>8.7</td>\n",
       "      <td>109431.0</td>\n",
       "    </tr>\n",
       "    <tr>\n",
       "      <th>25</th>\n",
       "      <td>9.0</td>\n",
       "      <td>105582.0</td>\n",
       "    </tr>\n",
       "    <tr>\n",
       "      <th>26</th>\n",
       "      <td>9.5</td>\n",
       "      <td>116969.0</td>\n",
       "    </tr>\n",
       "    <tr>\n",
       "      <th>27</th>\n",
       "      <td>9.6</td>\n",
       "      <td>112635.0</td>\n",
       "    </tr>\n",
       "    <tr>\n",
       "      <th>28</th>\n",
       "      <td>10.3</td>\n",
       "      <td>122391.0</td>\n",
       "    </tr>\n",
       "    <tr>\n",
       "      <th>29</th>\n",
       "      <td>10.5</td>\n",
       "      <td>121872.0</td>\n",
       "    </tr>\n",
       "  </tbody>\n",
       "</table>\n",
       "</div>"
      ],
      "text/plain": [
       "    YearsExperience    Salary\n",
       "0               1.1   39343.0\n",
       "1               1.3   46205.0\n",
       "2               1.5   37731.0\n",
       "3               2.0   43525.0\n",
       "4               2.2   39891.0\n",
       "5               2.9   56642.0\n",
       "6               3.0   60150.0\n",
       "7               3.2   54445.0\n",
       "8               3.2   64445.0\n",
       "9               3.7   57189.0\n",
       "10              3.9   63218.0\n",
       "11              4.0   55794.0\n",
       "12              4.0   56957.0\n",
       "13              4.1   57081.0\n",
       "14              4.5   61111.0\n",
       "15              4.9   67938.0\n",
       "16              5.1   66029.0\n",
       "17              5.3   83088.0\n",
       "18              5.9   81363.0\n",
       "19              6.0   93940.0\n",
       "20              6.8   91738.0\n",
       "21              7.1   98273.0\n",
       "22              7.9  101302.0\n",
       "23              8.2  113812.0\n",
       "24              8.7  109431.0\n",
       "25              9.0  105582.0\n",
       "26              9.5  116969.0\n",
       "27              9.6  112635.0\n",
       "28             10.3  122391.0\n",
       "29             10.5  121872.0"
      ]
     },
     "execution_count": 4,
     "metadata": {},
     "output_type": "execute_result"
    }
   ],
   "source": [
    "df"
   ]
  },
  {
   "cell_type": "code",
   "execution_count": 5,
   "metadata": {},
   "outputs": [
    {
     "data": {
      "text/html": [
       "<div>\n",
       "<style scoped>\n",
       "    .dataframe tbody tr th:only-of-type {\n",
       "        vertical-align: middle;\n",
       "    }\n",
       "\n",
       "    .dataframe tbody tr th {\n",
       "        vertical-align: top;\n",
       "    }\n",
       "\n",
       "    .dataframe thead th {\n",
       "        text-align: right;\n",
       "    }\n",
       "</style>\n",
       "<table border=\"1\" class=\"dataframe\">\n",
       "  <thead>\n",
       "    <tr style=\"text-align: right;\">\n",
       "      <th></th>\n",
       "      <th>YearsExperience</th>\n",
       "      <th>Salary</th>\n",
       "    </tr>\n",
       "  </thead>\n",
       "  <tbody>\n",
       "    <tr>\n",
       "      <th>count</th>\n",
       "      <td>30.000000</td>\n",
       "      <td>30.000000</td>\n",
       "    </tr>\n",
       "    <tr>\n",
       "      <th>mean</th>\n",
       "      <td>5.313333</td>\n",
       "      <td>76003.000000</td>\n",
       "    </tr>\n",
       "    <tr>\n",
       "      <th>std</th>\n",
       "      <td>2.837888</td>\n",
       "      <td>27414.429785</td>\n",
       "    </tr>\n",
       "    <tr>\n",
       "      <th>min</th>\n",
       "      <td>1.100000</td>\n",
       "      <td>37731.000000</td>\n",
       "    </tr>\n",
       "    <tr>\n",
       "      <th>25%</th>\n",
       "      <td>3.200000</td>\n",
       "      <td>56720.750000</td>\n",
       "    </tr>\n",
       "    <tr>\n",
       "      <th>50%</th>\n",
       "      <td>4.700000</td>\n",
       "      <td>65237.000000</td>\n",
       "    </tr>\n",
       "    <tr>\n",
       "      <th>75%</th>\n",
       "      <td>7.700000</td>\n",
       "      <td>100544.750000</td>\n",
       "    </tr>\n",
       "    <tr>\n",
       "      <th>max</th>\n",
       "      <td>10.500000</td>\n",
       "      <td>122391.000000</td>\n",
       "    </tr>\n",
       "  </tbody>\n",
       "</table>\n",
       "</div>"
      ],
      "text/plain": [
       "       YearsExperience         Salary\n",
       "count        30.000000      30.000000\n",
       "mean          5.313333   76003.000000\n",
       "std           2.837888   27414.429785\n",
       "min           1.100000   37731.000000\n",
       "25%           3.200000   56720.750000\n",
       "50%           4.700000   65237.000000\n",
       "75%           7.700000  100544.750000\n",
       "max          10.500000  122391.000000"
      ]
     },
     "execution_count": 5,
     "metadata": {},
     "output_type": "execute_result"
    }
   ],
   "source": [
    "df.describe()"
   ]
  },
  {
   "cell_type": "code",
   "execution_count": 6,
   "metadata": {},
   "outputs": [],
   "source": [
    "x =df.iloc[:,:-1].values\n",
    "y =df.iloc[:,1:].values  "
   ]
  },
  {
   "cell_type": "code",
   "execution_count": 7,
   "metadata": {},
   "outputs": [
    {
     "data": {
      "text/plain": [
       "array([[ 1.1],\n",
       "       [ 1.3],\n",
       "       [ 1.5],\n",
       "       [ 2. ],\n",
       "       [ 2.2],\n",
       "       [ 2.9],\n",
       "       [ 3. ],\n",
       "       [ 3.2],\n",
       "       [ 3.2],\n",
       "       [ 3.7],\n",
       "       [ 3.9],\n",
       "       [ 4. ],\n",
       "       [ 4. ],\n",
       "       [ 4.1],\n",
       "       [ 4.5],\n",
       "       [ 4.9],\n",
       "       [ 5.1],\n",
       "       [ 5.3],\n",
       "       [ 5.9],\n",
       "       [ 6. ],\n",
       "       [ 6.8],\n",
       "       [ 7.1],\n",
       "       [ 7.9],\n",
       "       [ 8.2],\n",
       "       [ 8.7],\n",
       "       [ 9. ],\n",
       "       [ 9.5],\n",
       "       [ 9.6],\n",
       "       [10.3],\n",
       "       [10.5]])"
      ]
     },
     "execution_count": 7,
     "metadata": {},
     "output_type": "execute_result"
    }
   ],
   "source": [
    "x"
   ]
  },
  {
   "cell_type": "code",
   "execution_count": 8,
   "metadata": {},
   "outputs": [],
   "source": [
    "xTrain,xTest,yTrain,yTest = train_test_split(x,y,test_size = 1/3)"
   ]
  },
  {
   "cell_type": "code",
   "execution_count": 9,
   "metadata": {},
   "outputs": [
    {
     "name": "stdout",
     "output_type": "stream",
     "text": [
      "[[ 5.1]\n",
      " [ 5.3]\n",
      " [ 3.2]\n",
      " [ 4.9]\n",
      " [ 2. ]\n",
      " [ 4.5]\n",
      " [ 1.3]\n",
      " [ 4.1]\n",
      " [10.3]\n",
      " [ 3.2]\n",
      " [ 9.6]\n",
      " [ 4. ]\n",
      " [ 7.9]\n",
      " [ 4. ]\n",
      " [ 6. ]\n",
      " [ 8.2]\n",
      " [ 1.1]\n",
      " [ 9.5]\n",
      " [ 5.9]\n",
      " [ 3.9]]\n"
     ]
    }
   ],
   "source": [
    "print(xTrain)"
   ]
  },
  {
   "cell_type": "code",
   "execution_count": 10,
   "metadata": {},
   "outputs": [
    {
     "name": "stdout",
     "output_type": "stream",
     "text": [
      "[[10.5]\n",
      " [ 3. ]\n",
      " [ 8.7]\n",
      " [ 9. ]\n",
      " [ 2.2]\n",
      " [ 6.8]\n",
      " [ 7.1]\n",
      " [ 2.9]\n",
      " [ 3.7]\n",
      " [ 1.5]]\n"
     ]
    }
   ],
   "source": [
    "print(xTest)"
   ]
  },
  {
   "cell_type": "code",
   "execution_count": 11,
   "metadata": {},
   "outputs": [],
   "source": [
    "lr = LinearRegression()\n",
    "lr.fit(xTrain,yTrain)\n",
    "\n",
    "\n",
    "yPrediction = lr.predict(xTest)"
   ]
  },
  {
   "cell_type": "code",
   "execution_count": 12,
   "metadata": {},
   "outputs": [
    {
     "data": {
      "text/plain": [
       "array([[125401.86641531],\n",
       "       [ 54191.0412993 ],\n",
       "       [108311.26838747],\n",
       "       [111159.70139211],\n",
       "       [ 46595.2199536 ],\n",
       "       [ 90271.19269142],\n",
       "       [ 93119.62569606],\n",
       "       [ 53241.56363109],\n",
       "       [ 60837.3849768 ],\n",
       "       [ 39948.8762761 ]])"
      ]
     },
     "execution_count": 12,
     "metadata": {},
     "output_type": "execute_result"
    }
   ],
   "source": [
    "yPrediction"
   ]
  },
  {
   "cell_type": "code",
   "execution_count": 13,
   "metadata": {
    "scrolled": true
   },
   "outputs": [
    {
     "name": "stdout",
     "output_type": "stream",
     "text": [
      "Coefficients: \n",
      " [[9494.77668213]]\n",
      "intercept: \n",
      " [25706.7112529]\n"
     ]
    }
   ],
   "source": [
    "theta = lr.coef_\n",
    "theta_zero= lr.intercept_\n",
    "print('Coefficients: \\n', lr.coef_)\n",
    "print('intercept: \\n', lr.intercept_)"
   ]
  },
  {
   "cell_type": "code",
   "execution_count": 14,
   "metadata": {},
   "outputs": [
    {
     "name": "stdout",
     "output_type": "stream",
     "text": [
      "y_pre =   [[9494.77668213]] X + [25706.7112529]\n"
     ]
    }
   ],
   "source": [
    "print(\"y_pre =  \",theta,(\"X\") ,\"+\" ,theta_zero)\n"
   ]
  },
  {
   "cell_type": "code",
   "execution_count": 15,
   "metadata": {},
   "outputs": [
    {
     "data": {
      "image/png": "[encoded data removed]",
      "text/plain": [
       "<Figure size 432x288 with 1 Axes>"
      ]
     },
     "metadata": {
      "needs_background": "light"
     },
     "output_type": "display_data"
    }
   ],
   "source": [
    "plot.scatter(xTrain,yTrain, c=\"r\")\n",
    "plot.plot(xTrain, lr.predict(xTrain), c =\"b\")\n",
    "plot.title('Salary Vs EXP(Train DS)')\n",
    "plot.xlabel('Year of exp')\n",
    "plot.ylabel('Salary')\n",
    "plot.show()"
   ]
  },
  {
   "cell_type": "code",
   "execution_count": 16,
   "metadata": {},
   "outputs": [
    {
     "data": {
      "image/png": "[encoded data removed]",
      "text/plain": [
       "<Figure size 432x288 with 1 Axes>"
      ]
     },
     "metadata": {
      "needs_background": "light"
     },
     "output_type": "display_data"
    }
   ],
   "source": [
    "plot.scatter(xTest,yTest, c=\"r\")\n",
    "plot.plot(xTest, lr.predict(xTest), c =\"b\")\n",
    "plot.title('Salary Vs EXP(Test DS)')\n",
    "plot.xlabel('Year of exp')\n",
    "plot.ylabel('Salary')\n",
    "plot.show()"
   ]
  },
  {
   "cell_type": "code",
   "execution_count": 17,
   "metadata": {},
   "outputs": [],
   "source": [
    "from sklearn.metrics import confusion_matrix,accuracy_score"
   ]
  },
  {
   "cell_type": "code",
   "execution_count": 18,
   "metadata": {},
   "outputs": [
    {
     "data": {
      "text/plain": [
       "array([[125402.],\n",
       "       [ 54191.],\n",
       "       [108311.],\n",
       "       [111160.],\n",
       "       [ 46595.],\n",
       "       [ 90271.],\n",
       "       [ 93120.],\n",
       "       [ 53242.],\n",
       "       [ 60837.],\n",
       "       [ 39949.]])"
      ]
     },
     "execution_count": 18,
     "metadata": {},
     "output_type": "execute_result"
    }
   ],
   "source": [
    "y_pre= yPrediction.round(0)\n",
    "y_pre\n"
   ]
  },
  {
   "cell_type": "code",
   "execution_count": 19,
   "metadata": {},
   "outputs": [
    {
     "data": {
      "text/plain": [
       "array([[121872.],\n",
       "       [ 60150.],\n",
       "       [109431.],\n",
       "       [105582.],\n",
       "       [ 39891.],\n",
       "       [ 91738.],\n",
       "       [ 98273.],\n",
       "       [ 56642.],\n",
       "       [ 57189.],\n",
       "       [ 37731.]])"
      ]
     },
     "execution_count": 19,
     "metadata": {},
     "output_type": "execute_result"
    }
   ],
   "source": [
    "yTest"
   ]
  },
  {
   "cell_type": "markdown",
   "metadata": {},
   "source": [
    "# Diabetes data set"
   ]
  },
  {
   "cell_type": "code",
   "execution_count": 21,
   "metadata": {},
   "outputs": [],
   "source": [
    "diabetes = datasets.load_diabetes()"
   ]
  },
  {
   "cell_type": "code",
   "execution_count": 22,
   "metadata": {},
   "outputs": [
    {
     "data": {
      "text/plain": [
       "{'data': array([[ 0.03807591,  0.05068012,  0.06169621, ..., -0.00259226,\n",
       "          0.01990842, -0.01764613],\n",
       "        [-0.00188202, -0.04464164, -0.05147406, ..., -0.03949338,\n",
       "         -0.06832974, -0.09220405],\n",
       "        [ 0.08529891,  0.05068012,  0.04445121, ..., -0.00259226,\n",
       "          0.00286377, -0.02593034],\n",
       "        ...,\n",
       "        [ 0.04170844,  0.05068012, -0.01590626, ..., -0.01107952,\n",
       "         -0.04687948,  0.01549073],\n",
       "        [-0.04547248, -0.04464164,  0.03906215, ...,  0.02655962,\n",
       "          0.04452837, -0.02593034],\n",
       "        [-0.04547248, -0.04464164, -0.0730303 , ..., -0.03949338,\n",
       "         -0.00421986,  0.00306441]]),\n",
       " 'target': array([151.,  75., 141., 206., 135.,  97., 138.,  63., 110., 310., 101.,\n",
       "         69., 179., 185., 118., 171., 166., 144.,  97., 168.,  68.,  49.,\n",
       "         68., 245., 184., 202., 137.,  85., 131., 283., 129.,  59., 341.,\n",
       "         87.,  65., 102., 265., 276., 252.,  90., 100.,  55.,  61.,  92.,\n",
       "        259.,  53., 190., 142.,  75., 142., 155., 225.,  59., 104., 182.,\n",
       "        128.,  52.,  37., 170., 170.,  61., 144.,  52., 128.,  71., 163.,\n",
       "        150.,  97., 160., 178.,  48., 270., 202., 111.,  85.,  42., 170.,\n",
       "        200., 252., 113., 143.,  51.,  52., 210.,  65., 141.,  55., 134.,\n",
       "         42., 111.,  98., 164.,  48.,  96.,  90., 162., 150., 279.,  92.,\n",
       "         83., 128., 102., 302., 198.,  95.,  53., 134., 144., 232.,  81.,\n",
       "        104.,  59., 246., 297., 258., 229., 275., 281., 179., 200., 200.,\n",
       "        173., 180.,  84., 121., 161.,  99., 109., 115., 268., 274., 158.,\n",
       "        107.,  83., 103., 272.,  85., 280., 336., 281., 118., 317., 235.,\n",
       "         60., 174., 259., 178., 128.,  96., 126., 288.,  88., 292.,  71.,\n",
       "        197., 186.,  25.,  84.,  96., 195.,  53., 217., 172., 131., 214.,\n",
       "         59.,  70., 220., 268., 152.,  47.,  74., 295., 101., 151., 127.,\n",
       "        237., 225.,  81., 151., 107.,  64., 138., 185., 265., 101., 137.,\n",
       "        143., 141.,  79., 292., 178.,  91., 116.,  86., 122.,  72., 129.,\n",
       "        142.,  90., 158.,  39., 196., 222., 277.,  99., 196., 202., 155.,\n",
       "         77., 191.,  70.,  73.,  49.,  65., 263., 248., 296., 214., 185.,\n",
       "         78.,  93., 252., 150.,  77., 208.,  77., 108., 160.,  53., 220.,\n",
       "        154., 259.,  90., 246., 124.,  67.,  72., 257., 262., 275., 177.,\n",
       "         71.,  47., 187., 125.,  78.,  51., 258., 215., 303., 243.,  91.,\n",
       "        150., 310., 153., 346.,  63.,  89.,  50.,  39., 103., 308., 116.,\n",
       "        145.,  74.,  45., 115., 264.,  87., 202., 127., 182., 241.,  66.,\n",
       "         94., 283.,  64., 102., 200., 265.,  94., 230., 181., 156., 233.,\n",
       "         60., 219.,  80.,  68., 332., 248.,  84., 200.,  55.,  85.,  89.,\n",
       "         31., 129.,  83., 275.,  65., 198., 236., 253., 124.,  44., 172.,\n",
       "        114., 142., 109., 180., 144., 163., 147.,  97., 220., 190., 109.,\n",
       "        191., 122., 230., 242., 248., 249., 192., 131., 237.,  78., 135.,\n",
       "        244., 199., 270., 164.,  72.,  96., 306.,  91., 214.,  95., 216.,\n",
       "        263., 178., 113., 200., 139., 139.,  88., 148.,  88., 243.,  71.,\n",
       "         77., 109., 272.,  60.,  54., 221.,  90., 311., 281., 182., 321.,\n",
       "         58., 262., 206., 233., 242., 123., 167.,  63., 197.,  71., 168.,\n",
       "        140., 217., 121., 235., 245.,  40.,  52., 104., 132.,  88.,  69.,\n",
       "        219.,  72., 201., 110.,  51., 277.,  63., 118.,  69., 273., 258.,\n",
       "         43., 198., 242., 232., 175.,  93., 168., 275., 293., 281.,  72.,\n",
       "        140., 189., 181., 209., 136., 261., 113., 131., 174., 257.,  55.,\n",
       "         84.,  42., 146., 212., 233.,  91., 111., 152., 120.,  67., 310.,\n",
       "         94., 183.,  66., 173.,  72.,  49.,  64.,  48., 178., 104., 132.,\n",
       "        220.,  57.]),\n",
       " 'DESCR': '.. _diabetes_dataset:\\n\\nDiabetes dataset\\n----------------\\n\\nTen baseline variables, age, sex, body mass index, average blood\\npressure, and six blood serum measurements were obtained for each of n =\\n442 diabetes patients, as well as the response of interest, a\\nquantitative measure of disease progression one year after baseline.\\n\\n**Data Set Characteristics:**\\n\\n  :Number of Instances: 442\\n\\n  :Number of Attributes: First 10 columns are numeric predictive values\\n\\n  :Target: Column 11 is a quantitative measure of disease progression one year after baseline\\n\\n  :Attribute Information:\\n      - Age\\n      - Sex\\n      - Body mass index\\n      - Average blood pressure\\n      - S1\\n      - S2\\n      - S3\\n      - S4\\n      - S5\\n      - S6\\n\\nNote: Each of these 10 feature variables have been mean centered and scaled by the standard deviation times `n_samples` (i.e. the sum of squares of each column totals 1).\\n\\nSource URL:\\nhttps://www4.stat.ncsu.edu/~boos/var.select/diabetes.html\\n\\nFor more information see:\\nBradley Efron, Trevor Hastie, Iain Johnstone and Robert Tibshirani (2004) \"Least Angle Regression,\" Annals of Statistics (with discussion), 407-499.\\n(https://web.stanford.edu/~hastie/Papers/LARS/LeastAngle_2002.pdf)',\n",
       " 'feature_names': ['age',\n",
       "  'sex',\n",
       "  'bmi',\n",
       "  'bp',\n",
       "  's1',\n",
       "  's2',\n",
       "  's3',\n",
       "  's4',\n",
       "  's5',\n",
       "  's6'],\n",
       " 'data_filename': 'C:\\\\ProgramData\\\\Anaconda3\\\\lib\\\\site-packages\\\\sklearn\\\\datasets\\\\data\\\\diabetes_data.csv.gz',\n",
       " 'target_filename': 'C:\\\\ProgramData\\\\Anaconda3\\\\lib\\\\site-packages\\\\sklearn\\\\datasets\\\\data\\\\diabetes_target.csv.gz'}"
      ]
     },
     "execution_count": 22,
     "metadata": {},
     "output_type": "execute_result"
    }
   ],
   "source": [
    "diabetes"
   ]
  },
  {
   "cell_type": "code",
   "execution_count": 23,
   "metadata": {},
   "outputs": [],
   "source": [
    "# use features only"
   ]
  },
  {
   "cell_type": "code",
   "execution_count": 24,
   "metadata": {},
   "outputs": [],
   "source": [
    "xTrain,xTest,yTrain,yTest = train_test_split(diabetes.data,diabetes.target, test_size=0.2,random_state =0)"
   ]
  },
  {
   "cell_type": "code",
   "execution_count": 25,
   "metadata": {},
   "outputs": [
    {
     "name": "stdout",
     "output_type": "stream",
     "text": [
      "[[ 0.01264814  0.05068012  0.00241654 ... -0.03949338  0.00371174\n",
      "   0.07348023]\n",
      " [-0.10722563 -0.04464164 -0.07734155 ... -0.0763945  -0.0425721\n",
      "  -0.0052198 ]\n",
      " [ 0.02717829  0.05068012 -0.03530688 ... -0.00259226 -0.01495648\n",
      "  -0.05078298]\n",
      " ...\n",
      " [ 0.05987114 -0.04464164 -0.02129532 ...  0.07120998  0.07912108\n",
      "   0.13561183]\n",
      " [-0.07816532 -0.04464164 -0.0730303  ... -0.03949338 -0.01811827\n",
      "  -0.08391984]\n",
      " [ 0.04170844  0.05068012  0.07139652 ...  0.03430886  0.07341008\n",
      "   0.08590655]]\n"
     ]
    }
   ],
   "source": [
    "print(xTrain)"
   ]
  },
  {
   "cell_type": "code",
   "execution_count": 26,
   "metadata": {},
   "outputs": [
    {
     "name": "stdout",
     "output_type": "stream",
     "text": [
      "[ 85. 137.  53.  51. 197. 135.  72. 208. 237. 145. 110. 292.  97. 197.\n",
      " 158. 163.  63. 192. 233.  68. 160. 178.  68. 109.  94. 118. 275. 275.\n",
      " 127. 281.  71.  42.  71. 128. 272. 135.  51. 220. 167.  78. 131. 212.\n",
      " 182. 174. 259.  77.  91. 310.  84. 134. 102. 128. 306. 245. 201. 183.\n",
      " 111.  96. 125. 182. 177.  48.  97. 259. 288. 242.  69.  31. 154. 150.\n",
      "  52. 261. 118. 102. 139.  51.  58. 144. 178.  97.  78. 129. 258. 124.\n",
      " 198. 185.  66. 237. 178. 275. 268. 242. 200. 214. 246. 236.  85. 114.\n",
      "  93.  99.  72. 270. 111.  83.  87.  42. 172.  65. 259. 279. 141. 144.\n",
      " 220.  90. 101.  53.  67.  72. 121. 303. 232. 140. 190. 221.  71. 116.\n",
      " 111. 280. 233.  78. 150. 283.  64. 140.  65. 225. 206.  63. 296. 173.\n",
      "  85. 141.  50.  25. 153.  55. 139. 336.  73.  95. 109.  44. 180. 263.\n",
      " 148.  79.  65. 102. 220. 277. 246. 200. 262. 191.  97. 184.  85. 248.\n",
      " 150. 268.  59.  70.  88. 100. 190. 113.  66. 243. 185. 262.  48. 160.\n",
      " 217. 210. 132. 257. 104. 126. 292. 166.  83.  81. 144. 281.  72.  39.\n",
      " 109.  60. 258. 178. 168.  87.  77. 216. 206. 142. 161. 265.  60. 200.\n",
      " 265. 272. 146.  94.  55.  69. 138. 258. 143. 172.  89.  69. 199.  55.\n",
      "  45. 265.  91. 170.  55. 202. 155.  77.  77.  71. 123.  84. 252.  52.\n",
      "  40. 274. 143. 245.  92. 151.  39. 235.  92. 253.  94.  81. 346.  90.\n",
      " 181. 162. 277. 152. 178. 124.  75. 263. 202. 200. 108.  96.  60.  72.\n",
      " 107.  54. 158. 152. 220. 308. 249. 222.  65. 173.  88.  72. 164.  52.\n",
      " 115. 200.  90. 248.  37. 230.  63. 273.  61.  53. 189. 241. 118. 252.\n",
      " 104. 219. 115. 332. 131. 185.  63. 131.  88. 187. 196.  59. 341. 109.\n",
      " 101. 113.  80. 242. 168. 128. 233. 209. 225.  83. 214.  96. 129.  47.\n",
      " 229. 293.  74. 202. 164. 202.  59.  91. 120. 151. 310.  90. 116. 147.\n",
      "  43.  42.  48. 134.  84.  71.  64.  70. 310. 311. 122. 243. 248.  91.\n",
      " 281. 142. 295.]\n"
     ]
    }
   ],
   "source": [
    "print(yTrain)"
   ]
  },
  {
   "cell_type": "code",
   "execution_count": 27,
   "metadata": {},
   "outputs": [
    {
     "name": "stdout",
     "output_type": "stream",
     "text": [
      "[[ 0.01991321  0.05068012  0.10480869  0.07007254 -0.03596778 -0.0266789\n",
      "  -0.02499266 -0.00259226  0.00371174  0.04034337]\n",
      " [-0.01277963 -0.04464164  0.06061839  0.05285819  0.04796534  0.02937467\n",
      "  -0.01762938  0.03430886  0.0702113   0.00720652]\n",
      " [ 0.03807591  0.05068012  0.00888341  0.04252958 -0.04284755 -0.02104223\n",
      "  -0.03971921 -0.00259226 -0.01811827  0.00720652]\n",
      " [-0.01277963 -0.04464164 -0.02345095 -0.04009932 -0.01670444  0.00463594\n",
      "  -0.01762938 -0.00259226 -0.03845911 -0.03835666]\n",
      " [-0.02367725 -0.04464164  0.04552903  0.09072977 -0.01808039 -0.03544706\n",
      "   0.07072993 -0.03949338 -0.03452372 -0.00936191]\n",
      " [-0.02004471 -0.04464164  0.097264   -0.00567061 -0.00569682 -0.02386057\n",
      "  -0.02131102 -0.00259226  0.06168585  0.04034337]\n",
      " [ 0.01628068 -0.04464164 -0.02884001 -0.00911348 -0.00432087 -0.00976889\n",
      "   0.04495846 -0.03949338 -0.03075121 -0.04249877]\n",
      " [ 0.05987114  0.05068012  0.02289497  0.04941532  0.01631843  0.01183836\n",
      "  -0.01394774 -0.00259226  0.03953988  0.01963284]\n",
      " [-0.05273755 -0.04464164  0.05415152 -0.02632783 -0.05523112 -0.03388132\n",
      "  -0.01394774 -0.03949338 -0.07408887 -0.05906719]\n",
      " [-0.03094232 -0.04464164  0.04660684  0.01498661 -0.01670444 -0.04703355\n",
      "   0.00077881 -0.00259226  0.06345592 -0.02593034]\n",
      " [ 0.00538306 -0.04464164 -0.05794093 -0.02288496 -0.0676147  -0.06832765\n",
      "  -0.05444576 -0.00259226  0.04289569 -0.08391984]\n",
      " [ 0.03081083  0.05068012  0.04660684 -0.01599922  0.02044629  0.05066877\n",
      "  -0.0581274   0.07120998  0.00620932  0.00720652]\n",
      " [ 0.02354575  0.05068012 -0.0374625  -0.04698506 -0.0910059  -0.07553006\n",
      "  -0.03235593 -0.03949338 -0.03075121 -0.01350402]\n",
      " [-0.02004471 -0.04464164 -0.046085   -0.09862812 -0.07587041 -0.05987264\n",
      "  -0.01762938 -0.03949338 -0.05140054 -0.04664087]\n",
      " [ 0.06350368  0.05068012  0.08864151  0.07007254  0.02044629  0.03751653\n",
      "  -0.05076412  0.07120998  0.02930041  0.07348023]\n",
      " [-0.0854304   0.05068012 -0.02237314  0.00121513 -0.03734373 -0.02636575\n",
      "   0.01550536 -0.03949338 -0.07212845 -0.01764613]\n",
      " [-0.06726771 -0.04464164 -0.05901875  0.03220097 -0.05110326 -0.04953874\n",
      "  -0.01026611 -0.03949338  0.00200784  0.02377494]\n",
      " [-0.00188202 -0.04464164 -0.05147406 -0.02632783 -0.00844872 -0.01916334\n",
      "   0.07441156 -0.03949338 -0.06832974 -0.09220405]\n",
      " [-0.09632802 -0.04464164 -0.08380842  0.00810087 -0.10338947 -0.09056119\n",
      "  -0.01394774 -0.0763945  -0.06291295 -0.03421455]\n",
      " [ 0.03081083 -0.04464164  0.04013997  0.07695829  0.01769438  0.03782968\n",
      "  -0.02867429  0.03430886 -0.00149859  0.1190434 ]\n",
      " [-0.03094232  0.05068012  0.02828403  0.07007254 -0.12678067 -0.10684491\n",
      "  -0.05444576 -0.04798064 -0.03075121  0.01549073]\n",
      " [-0.00914709 -0.04464164  0.01103904 -0.05731367 -0.02496016 -0.04296262\n",
      "   0.03023191 -0.03949338  0.01703713 -0.0052198 ]\n",
      " [ 0.05260606  0.05068012 -0.02452876  0.05630106 -0.00707277 -0.00507166\n",
      "  -0.02131102 -0.00259226  0.02671426 -0.03835666]\n",
      " [ 0.00538306 -0.04464164  0.05846277 -0.04354219 -0.07311851 -0.07239858\n",
      "   0.019187   -0.0763945  -0.05140054 -0.02593034]\n",
      " [-0.07453279  0.05068012  0.05522933 -0.04009932  0.05346915  0.05317395\n",
      "  -0.04340085  0.07120998  0.06123791 -0.03421455]\n",
      " [ 0.01628068 -0.04464164  0.01750591 -0.02288496  0.06034892  0.0444058\n",
      "   0.03023191 -0.00259226  0.03723201 -0.0010777 ]\n",
      " [ 0.04897352 -0.04464164 -0.04177375  0.10450125  0.03558177 -0.02573946\n",
      "   0.17749742 -0.0763945  -0.01290794  0.01549073]\n",
      " [ 0.01628068 -0.04464164 -0.04500719 -0.05731367 -0.03459183 -0.05392282\n",
      "   0.07441156 -0.0763945  -0.0425721   0.04034337]\n",
      " [ 0.01991321 -0.04464164  0.00457217  0.04597245 -0.01808039 -0.05454912\n",
      "   0.06336665 -0.03949338  0.02866072  0.06105391]\n",
      " [ 0.00175052  0.05068012  0.02612841 -0.00911348  0.02457414  0.03845598\n",
      "  -0.02131102  0.03430886  0.00943641  0.00306441]\n",
      " [ 0.04534098  0.05068012 -0.00297252  0.10794412  0.03558177  0.02248541\n",
      "   0.02655027 -0.00259226  0.02801651  0.01963284]\n",
      " [-0.01641217 -0.04464164 -0.05255187 -0.03321358 -0.0442235  -0.03638651\n",
      "   0.019187   -0.03949338 -0.06832974 -0.03007245]\n",
      " [-0.07453279 -0.04464164 -0.0105172  -0.00567061 -0.06623874 -0.0570543\n",
      "  -0.00290283 -0.03949338 -0.0425721  -0.0010777 ]\n",
      " [-0.10722563 -0.04464164 -0.01159501 -0.04009932  0.0493413   0.0644473\n",
      "  -0.01394774  0.03430886  0.00702686 -0.03007245]\n",
      " [ 0.04534098 -0.04464164 -0.00620595 -0.01599922  0.1250187   0.1251981\n",
      "   0.019187    0.03430886  0.03243323 -0.0052198 ]\n",
      " [ 0.01628068 -0.04464164  0.02073935  0.02187235 -0.01395254 -0.01321352\n",
      "  -0.00658447 -0.00259226  0.01331597  0.04034337]\n",
      " [-0.02367725 -0.04464164 -0.01590626 -0.01255635  0.02044629  0.04127431\n",
      "  -0.04340085  0.03430886  0.01407245 -0.00936191]\n",
      " [ 0.03444337  0.05068012 -0.00943939  0.05974393 -0.03596778 -0.00757685\n",
      "  -0.07653559  0.07120998  0.0110081  -0.02178823]\n",
      " [ 0.01628068 -0.04464164  0.00133873  0.00810087  0.0053108   0.01089891\n",
      "   0.03023191 -0.03949338 -0.04542096  0.03205916]\n",
      " [ 0.01264814 -0.04464164  0.03367309  0.03334859  0.03007796  0.02718263\n",
      "  -0.00290283  0.00884709  0.03119299  0.02791705]\n",
      " [-0.01277963 -0.04464164 -0.06548562 -0.06993753  0.00118295  0.01684873\n",
      "  -0.00290283 -0.0070204  -0.03075121 -0.05078298]\n",
      " [-0.05637009  0.05068012 -0.0105172   0.02531523  0.02319819  0.04002172\n",
      "  -0.03971921  0.03430886  0.02061233  0.0569118 ]\n",
      " [ 0.02717829 -0.04464164 -0.00728377 -0.05042793  0.0754844   0.05661859\n",
      "   0.03391355 -0.00259226  0.04344317  0.01549073]\n",
      " [ 0.05260606 -0.04464164 -0.00405033 -0.03091833 -0.0469754  -0.0583069\n",
      "  -0.01394774 -0.02583997  0.03605579  0.02377494]\n",
      " [ 0.0090156   0.05068012  0.03043966  0.04252958 -0.00294491  0.03689023\n",
      "  -0.06549067  0.07120998 -0.02364456  0.01549073]\n",
      " [ 0.06713621 -0.04464164 -0.06117437 -0.04009932 -0.02633611 -0.02448686\n",
      "   0.03391355 -0.03949338 -0.05615757 -0.05906719]\n",
      " [ 0.04534098 -0.04464164 -0.0191397   0.02187235  0.02732605 -0.01352667\n",
      "   0.10018303 -0.03949338  0.01776348 -0.01350402]\n",
      " [-0.04910502 -0.04464164  0.0250506   0.00810087  0.02044629  0.01778818\n",
      "   0.05232174 -0.03949338 -0.04118039  0.00720652]\n",
      " [-0.00188202  0.05068012 -0.03315126 -0.01829447  0.03145391  0.04284006\n",
      "  -0.01394774  0.01991742  0.01022564  0.02791705]\n",
      " [-0.00188202 -0.04464164  0.03367309  0.12515848  0.02457414  0.02624319\n",
      "  -0.01026611 -0.00259226  0.02671426  0.06105391]\n",
      " [ 0.04170844  0.05068012 -0.02237314  0.0287581  -0.06623874 -0.04515466\n",
      "  -0.06180903 -0.00259226  0.00286377 -0.05492509]\n",
      " [-0.04547248  0.05068012 -0.04716281 -0.01599922 -0.04009564 -0.02480001\n",
      "   0.00077881 -0.03949338 -0.06291295 -0.03835666]\n",
      " [-0.02004471 -0.04464164  0.01858372  0.09072977  0.00393485  0.00870687\n",
      "   0.03759519 -0.03949338 -0.05780007  0.00720652]\n",
      " [ 0.04534098  0.05068012 -0.00836158 -0.03321358 -0.00707277  0.00119131\n",
      "  -0.03971921  0.03430886  0.02993565  0.02791705]\n",
      " [-0.00551455 -0.04464164  0.0433734   0.0872869   0.01356652  0.00714113\n",
      "  -0.01394774 -0.00259226  0.0423449  -0.01764613]\n",
      " [-0.05273755  0.05068012 -0.01806189  0.08040116  0.08924393  0.10766179\n",
      "  -0.03971921  0.1081111   0.03605579 -0.04249877]\n",
      " [-0.02367725 -0.04464164  0.03043966 -0.00567061  0.08236416  0.09200436\n",
      "  -0.01762938  0.07120998  0.03304707  0.00306441]\n",
      " [-0.07090025 -0.04464164 -0.00405033 -0.04009932 -0.06623874 -0.07866155\n",
      "   0.05232174 -0.0763945  -0.05140054 -0.03421455]\n",
      " [ 0.07076875 -0.04464164 -0.00512814 -0.00567061  0.08786798  0.10296456\n",
      "   0.01182372  0.03430886 -0.00894402  0.02791705]\n",
      " [ 0.04170844  0.05068012  0.01211685  0.03908671  0.05484511  0.0444058\n",
      "   0.00446045 -0.00259226  0.04560081 -0.0010777 ]\n",
      " [-0.04183994 -0.04464164  0.04121778 -0.02632783 -0.03183992 -0.03043668\n",
      "  -0.03603757  0.00294291  0.03365681 -0.01764613]\n",
      " [-0.00551455 -0.04464164  0.02397278  0.00810087 -0.03459183 -0.03889169\n",
      "   0.02286863 -0.03949338 -0.01599827 -0.01350402]\n",
      " [ 0.02717829 -0.04464164  0.04984027 -0.05501842 -0.00294491  0.04064802\n",
      "  -0.0581274   0.05275942 -0.05295879 -0.0052198 ]\n",
      " [ 0.01628068  0.05068012 -0.02129532 -0.00911348  0.03420581  0.04785043\n",
      "   0.00077881 -0.00259226 -0.01290794  0.02377494]\n",
      " [ 0.04897352 -0.04464164  0.06061839 -0.02288496 -0.02358421 -0.07271173\n",
      "  -0.04340085 -0.00259226  0.10413761  0.03620126]\n",
      " [-0.09269548 -0.04464164  0.02828403 -0.01599922  0.03695772  0.02499059\n",
      "   0.05600338 -0.03949338 -0.00514531 -0.0010777 ]\n",
      " [-0.00914709 -0.04464164 -0.06225218 -0.07452802 -0.02358421 -0.01321352\n",
      "   0.00446045 -0.03949338 -0.03581673 -0.04664087]\n",
      " [-0.02730979 -0.04464164  0.04768465 -0.04698506  0.03420581  0.05724488\n",
      "  -0.08021722  0.13025177  0.04506617  0.13146972]\n",
      " [-0.08179786  0.05068012  0.04229559 -0.01944209  0.03970963  0.05755803\n",
      "  -0.06917231  0.1081111   0.04718617 -0.03835666]\n",
      " [-0.04547248 -0.04464164 -0.0730303  -0.08141377  0.08374012  0.02780893\n",
      "   0.17381578 -0.03949338 -0.00421986  0.00306441]\n",
      " [ 0.01264814 -0.04464164 -0.02560657 -0.04009932 -0.03046397 -0.04515466\n",
      "   0.0780932  -0.0763945  -0.07212845  0.01134862]\n",
      " [ 0.06350368  0.05068012 -0.02560657  0.01154374  0.06447678  0.04847673\n",
      "   0.03023191 -0.00259226  0.03839325  0.01963284]\n",
      " [ 0.03807591  0.05068012 -0.02991782 -0.07452802 -0.01257658 -0.01258722\n",
      "   0.00446045 -0.00259226  0.00371174 -0.03007245]\n",
      " [ 0.06713621 -0.04464164  0.03690653 -0.05042793 -0.02358421 -0.03450761\n",
      "   0.0486401  -0.03949338 -0.02595242 -0.03835666]\n",
      " [-0.03457486  0.05068012  0.00564998 -0.00567061 -0.07311851 -0.06269098\n",
      "  -0.00658447 -0.03949338 -0.04542096  0.03205916]\n",
      " [-0.04547248  0.05068012 -0.02452876  0.05974393  0.0053108   0.01496984\n",
      "  -0.05444576  0.07120998  0.0423449   0.01549073]\n",
      " [-0.00551455  0.05068012 -0.01590626 -0.06764228  0.0493413   0.07916528\n",
      "  -0.02867429  0.03430886 -0.01811827  0.04448548]\n",
      " [-0.02730979  0.05068012  0.06061839  0.04941532  0.08511607  0.08636769\n",
      "  -0.00290283  0.03430886  0.03781448  0.04862759]\n",
      " [ 0.04897352  0.05068012  0.08109682  0.02187235  0.04383748  0.06413415\n",
      "  -0.05444576  0.07120998  0.03243323  0.04862759]\n",
      " [ 0.01264814 -0.04464164  0.02612841  0.0631868   0.1250187   0.09169122\n",
      "   0.06336665 -0.00259226  0.05757286 -0.02178823]\n",
      " [ 0.00538306 -0.04464164 -0.00297252  0.04941532  0.07410845  0.07071027\n",
      "   0.04495846 -0.00259226 -0.00149859 -0.00936191]\n",
      " [ 0.0562386   0.05068012  0.00996123  0.04941532 -0.00432087 -0.01227407\n",
      "  -0.04340085  0.03430886  0.06078775  0.03205916]\n",
      " [ 0.02354575  0.05068012 -0.02021751 -0.03665645 -0.01395254 -0.01509241\n",
      "   0.05968501 -0.03949338 -0.09643322 -0.01764613]\n",
      " [ 0.01991321  0.05068012  0.01427248  0.0631868   0.01494247  0.02029337\n",
      "  -0.04708248  0.03430886  0.04666077  0.09004865]\n",
      " [-0.07090025  0.05068012 -0.08919748 -0.07452802 -0.04284755 -0.02573946\n",
      "  -0.03235593 -0.00259226 -0.01290794 -0.05492509]\n",
      " [ 0.00175052 -0.04464164 -0.07087468 -0.02288496 -0.00156896 -0.00100073\n",
      "   0.02655027 -0.03949338 -0.02251217  0.00720652]\n",
      " [-0.07453279 -0.04464164  0.0433734  -0.03321358  0.01219057  0.00025186\n",
      "   0.06336665 -0.03949338 -0.02712865 -0.04664087]\n",
      " [-0.04183994  0.05068012  0.01427248 -0.00567061 -0.01257658  0.00620169\n",
      "  -0.07285395  0.07120998  0.03546194 -0.01350402]\n",
      " [-0.05273755 -0.04464164 -0.00943939 -0.00567061  0.03970963  0.04471895\n",
      "   0.02655027 -0.00259226 -0.01811827 -0.01350402]]\n"
     ]
    }
   ],
   "source": [
    "print(xTest)"
   ]
  },
  {
   "cell_type": "code",
   "execution_count": 28,
   "metadata": {},
   "outputs": [
    {
     "name": "stdout",
     "output_type": "stream",
     "text": [
      "[321. 215. 127.  64. 175. 275. 179. 232. 142.  99. 252. 174. 129.  74.\n",
      " 264.  49.  86.  75. 101. 155. 170. 276. 110. 136.  68. 128. 103.  93.\n",
      " 191. 196. 217. 181. 168. 200. 219. 281. 151. 257.  49. 198.  96. 179.\n",
      "  95. 198. 244.  89. 214. 182.  84. 270. 156. 138. 113. 131. 195. 171.\n",
      " 122.  61. 230. 235.  52. 121. 144. 107. 132. 302.  53. 317. 137.  57.\n",
      "  98. 170.  88.  90.  67. 163. 104. 186. 180. 283. 141. 150.  47. 297.\n",
      " 104.  49. 103. 142.  59.]\n"
     ]
    }
   ],
   "source": [
    "print(yTest)"
   ]
  },
  {
   "cell_type": "code",
   "execution_count": 29,
   "metadata": {},
   "outputs": [],
   "source": [
    "lr = LinearRegression()\n",
    "lr.fit(xTrain,yTrain)\n",
    "\n",
    "\n",
    "yPrediction = lr.predict(xTest)"
   ]
  },
  {
   "cell_type": "code",
   "execution_count": 30,
   "metadata": {},
   "outputs": [
    {
     "data": {
      "text/plain": [
       "array([238.47145247, 248.93170646, 164.05404165, 120.30794355,\n",
       "       187.42422054, 259.04865002, 113.55556372, 188.07597044,\n",
       "       149.49663441, 236.01099949, 172.24629506, 178.88073764,\n",
       "       109.15751983,  92.13508975, 243.33042043,  87.356971  ,\n",
       "       155.72606406,  66.99073989, 100.42610442, 218.09422877,\n",
       "       196.66287912, 161.29832968, 161.70779605, 156.52520454,\n",
       "       197.88796516, 167.57984206, 120.74478913,  84.83879727,\n",
       "       192.03728687, 160.60687024, 175.17178362,  84.22833237,\n",
       "       145.7995542 , 145.97333493, 140.96488953, 197.00421108,\n",
       "       165.94322494, 190.65906468, 128.22520508, 206.41941223,\n",
       "        84.35851196, 164.0256504 , 144.1056776 , 184.68355549,\n",
       "       177.80238966,  74.32855231, 143.3660286 , 138.67726085,\n",
       "       120.81146113, 234.34252077, 161.94390244,  74.5455476 ,\n",
       "       154.71905074, 156.78884927, 237.42227096, 174.23053048,\n",
       "       190.88212635, 118.98373473, 132.20418974, 168.52674824,\n",
       "       214.74245466, 171.42364091, 157.37409906, 108.86927343,\n",
       "       257.06329636, 152.17777143,  82.43686464, 231.56746032,\n",
       "       202.90641336,  47.18340199,  78.46954525, 129.30170908,\n",
       "       104.60253144, 144.65200281, 132.27974254, 190.04134164,\n",
       "        97.55541138, 197.51891007, 219.13709291, 186.13797012,\n",
       "       149.60913007, 208.42379455,  44.59036026, 206.20925368,\n",
       "        76.77377721,  94.94046865, 145.2955051 , 194.03776373,\n",
       "       132.78534336])"
      ]
     },
     "execution_count": 30,
     "metadata": {},
     "output_type": "execute_result"
    }
   ],
   "source": [
    "yPrediction"
   ]
  },
  {
   "cell_type": "code",
   "execution_count": 31,
   "metadata": {},
   "outputs": [
    {
     "name": "stdout",
     "output_type": "stream",
     "text": [
      "Coefficients: \n",
      " [ -35.55683674 -243.1692265   562.75404632  305.47203008 -662.78772128\n",
      "  324.27527477   24.78193291  170.33056502  731.67810787   43.02846824]\n",
      "intercept: \n",
      " 152.5381335195406\n"
     ]
    }
   ],
   "source": [
    " theta = lr.coef_\n",
    "theta_zero= lr.intercept_\n",
    "print('Coefficients: \\n', lr.coef_)\n",
    "print('intercept: \\n', lr.intercept_)"
   ]
  },
  {
   "cell_type": "code",
   "execution_count": 32,
   "metadata": {},
   "outputs": [
    {
     "name": "stdout",
     "output_type": "stream",
     "text": [
      "R2 score: 0.33 \n"
     ]
    }
   ],
   "source": [
    "# explained variance score : 1 is perfect prediction\n",
    "from sklearn.metrics import mean_squared_error,r2_score\n",
    "print(\"R2 score: %.2f \"%r2_score(yTest, yPrediction))"
   ]
  },
  {
   "cell_type": "code",
   "execution_count": 33,
   "metadata": {},
   "outputs": [
    {
     "name": "stdout",
     "output_type": "stream",
     "text": [
      "mean_squared_error: 3424.32 \n"
     ]
    }
   ],
   "source": [
    "print(\"mean_squared_error: %.2f \"%mean_squared_error(yTest, yPrediction))"
   ]
  },
  {
   "cell_type": "code",
   "execution_count": null,
   "metadata": {},
   "outputs": [],
   "source": []
  }
 ],
 "metadata": {
  "kernelspec": {
   "display_name": "Python 3",
   "language": "python",
   "name": "python3"
  },
  "language_info": {
   "codemirror_mode": {
    "name": "ipython",
    "version": 3
   },
   "file_extension": ".py",
   "mimetype": "text/x-python",
   "name": "python",
   "nbconvert_exporter": "python",
   "pygments_lexer": "ipython3",
   "version": "3.7.3"
  }
 },
 "nbformat": 4,
 "nbformat_minor": 2
}
